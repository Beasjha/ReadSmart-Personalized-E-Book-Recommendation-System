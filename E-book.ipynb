{
  "nbformat": 4,
  "nbformat_minor": 0,
  "metadata": {
    "colab": {
      "provenance": []
    },
    "kernelspec": {
      "name": "python3",
      "display_name": "Python 3"
    },
    "language_info": {
      "name": "python"
    }
  },
  "cells": [
    {
      "cell_type": "code",
      "source": [
        "import pandas as pd\n",
        "\n",
        "# Load the dataset\n",
        "df = pd.read_csv(\"books.csv\")\n",
        "\n",
        "# Function to assign genre based on title keywords\n",
        "def assign_genre(title):\n",
        "    title_lower = str(title).lower()\n",
        "\n",
        "    # Fiction genres\n",
        "    if any(word in title_lower for word in [\"love\", \"romance\", \"heart\"]):\n",
        "        return \"Romance\"\n",
        "    elif any(word in title_lower for word in [\"murder\", \"crime\", \"detective\", \"thriller\"]):\n",
        "        return \"Thriller\"\n",
        "    elif any(word in title_lower for word in [\"magic\", \"dragon\", \"fantasy\", \"wizard\"]):\n",
        "        return \"Fantasy\"\n",
        "    elif any(word in title_lower for word in [\"space\", \"alien\", \"galaxy\", \"planet\"]):\n",
        "        return \"Science Fiction\"\n",
        "    elif any(word in title_lower for word in [\"history\", \"war\", \"ancient\", \"kingdom\"]):\n",
        "        return \"Historical\"\n",
        "    elif any(word in title_lower for word in [\"self\", \"mind\", \"life\", \"success\", \"habit\"]):\n",
        "        return \"Self-Help\"\n",
        "    elif any(word in title_lower for word in [\"cook\", \"recipe\", \"food\", \"kitchen\"]):\n",
        "        return \"Cooking\"\n",
        "    elif any(word in title_lower for word in [\"business\", \"money\", \"finance\", \"economy\"]):\n",
        "        return \"Business\"\n",
        "    elif any(word in title_lower for word in [\"art\", \"design\", \"drawing\", \"painting\"]):\n",
        "        return \"Art\"\n",
        "    elif any(word in title_lower for word in [\"poem\", \"poetry\", \"verse\", \"lyric\"]):\n",
        "        return \"Poetry\"\n",
        "    else:\n",
        "        return \"General\"\n",
        "\n",
        "# Apply genre assignment\n",
        "df[\"genre\"] = df[\"title\"].apply(assign_genre)\n",
        "\n",
        "# Save the updated file\n",
        "df.to_csv(\"book_with_genres.csv\", index=False)\n",
        "\n",
        "print(\"✅ Genre column added and saved as 'book_with_genres.csv'\")\n"
      ],
      "metadata": {
        "colab": {
          "base_uri": "https://localhost:8080/"
        },
        "id": "XkzD-8r43EuX",
        "outputId": "eb8b87f4-4924-404b-8980-138b151568a8"
      },
      "execution_count": 2,
      "outputs": [
        {
          "output_type": "stream",
          "name": "stdout",
          "text": [
            "✅ Genre column added and saved as 'book_with_genres.csv'\n"
          ]
        }
      ]
    },
    {
      "cell_type": "code",
      "source": [
        "import pandas as pd\n",
        "from sklearn.feature_extraction.text import TfidfVectorizer\n",
        "from sklearn.metrics.pairwise import cosine_similarity\n",
        "\n",
        "# Load your enriched dataset\n",
        "df = pd.read_csv(\"book_with_genres.csv\")\n",
        "\n",
        "# Filter out rows with missing ratings or genres\n",
        "df = df.dropna(subset=[\"average_rating\", \"genre\"])\n",
        "df[\"average_rating\"] = pd.to_numeric(df[\"average_rating\"], errors=\"coerce\")\n",
        "\n",
        "# STRATEGY A - Top Rated\n",
        "\n",
        "def recommend_top_rated(genre, min_rating=4.0, top_n=5):\n",
        "    genre_books = df[(df[\"genre\"].str.lower() == genre.lower()) &\n",
        "                     (df[\"average_rating\"] >= min_rating)]\n",
        "    return genre_books.sort_values(by=\"average_rating\", ascending=False).head(top_n)[\n",
        "        [\"title\", \"authors\", \"average_rating\"]  # changed 'author' → 'authors'\n",
        "    ]\n",
        "\n",
        "# STRATEGY B - Similar Books\n",
        "\n",
        "def recommend_similar_books(fav_book_title, genre, top_n=5):\n",
        "    genre_books = df[df[\"genre\"].str.lower() == genre.lower()].copy()\n",
        "    genre_books[\"text\"] = genre_books[\"title\"] + \" \" + genre_books[\"authors\"]\n",
        "\n",
        "    tfidf = TfidfVectorizer(stop_words=\"english\")\n",
        "    tfidf_matrix = tfidf.fit_transform(genre_books[\"text\"])\n",
        "\n",
        "    cosine_sim = cosine_similarity(tfidf_matrix, tfidf_matrix)\n",
        "\n",
        "    # Find closest matching title\n",
        "    match = genre_books[genre_books[\"title\"].str.lower().str.contains(fav_book_title.lower())]\n",
        "    if match.empty:\n",
        "        return pd.DataFrame({\"Error\": [\"Book not found in dataset\"]})\n",
        "\n",
        "    idx = match.index[0]  # take the first match\n",
        "    sim_scores = list(enumerate(cosine_sim[idx]))\n",
        "    sim_scores = sorted(sim_scores, key=lambda x: x[1], reverse=True)[1: top_n+1]\n",
        "    book_indices = [i[0] for i in sim_scores]\n",
        "\n",
        "    return genre_books.iloc[book_indices][[\"title\", \"authors\", \"average_rating\"]]\n",
        "\n",
        "# Example\n",
        "print(\"📚A - Top Rated Fantasy Books:\")\n",
        "print(recommend_top_rated(\"Fantasy\", 4.0, 5))\n",
        "\n",
        "print(\"\\n📚B - Books Similar to 'Pride and Prejudice':\")\n",
        "print(recommend_similar_books(\"Pride and Prejudice\", \"Romance\", 5))\n"
      ],
      "metadata": {
        "colab": {
          "base_uri": "https://localhost:8080/"
        },
        "id": "8NM5wS7J3bTa",
        "outputId": "f067f86a-a639-4164-a6ec-c04aaba387de"
      },
      "execution_count": 6,
      "outputs": [
        {
          "output_type": "stream",
          "name": "stdout",
          "text": [
            "📚A - Top Rated Fantasy Books:\n",
            "                                                  title         authors  \\\n",
            "4482  It's a Magical World: A Calvin and Hobbes Coll...  Bill Watterson   \n",
            "9711                     Magic Binds (Kate Daniels, #9)   Ilona Andrews   \n",
            "6117                    Magic Breaks (Kate Daniels, #7)   Ilona Andrews   \n",
            "4920                     Magic Rises (Kate Daniels, #6)   Ilona Andrews   \n",
            "2000                        Harry Potter: Film Wizardry    Brian Sibley   \n",
            "\n",
            "      average_rating  \n",
            "4482            4.75  \n",
            "9711            4.57  \n",
            "6117            4.52  \n",
            "4920            4.49  \n",
            "2000            4.48  \n",
            "\n",
            "📚B - Books Similar to 'Pride and Prejudice':\n",
            "                                        title          authors  average_rating\n",
            "4724                         My Beloved World  Sonia Sotomayor            4.03\n",
            "2189                 Cry, the Beloved Country       Alan Paton            3.87\n",
            "9                         Pride and Prejudice      Jane Austen            4.24\n",
            "21                           The Lovely Bones     Alice Sebold            3.77\n",
            "33    Fifty Shades of Grey (Fifty Shades, #1)       E.L. James            3.67\n"
          ]
        }
      ]
    },
    {
      "cell_type": "code",
      "source": [],
      "metadata": {
        "id": "OJExaX3tBj_Y"
      },
      "execution_count": null,
      "outputs": []
    }
  ]
}